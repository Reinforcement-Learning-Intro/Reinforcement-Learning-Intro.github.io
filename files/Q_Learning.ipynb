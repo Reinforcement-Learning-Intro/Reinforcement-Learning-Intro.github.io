{
  "nbformat": 4,
  "nbformat_minor": 0,
  "metadata": {
    "colab": {
      "name": "Q_Learning.ipynb",
      "provenance": [],
      "collapsed_sections": []
    },
    "kernelspec": {
      "name": "python3",
      "display_name": "Python 3"
    },
    "language_info": {
      "name": "python"
    }
  },
  "cells": [
    {
      "cell_type": "markdown",
      "source": [
        "# Q-Learning\n",
        "In this notebook, we try to reproduce the plot on slide 31 from [Lecture 6 RL Lecture Series 2021](https://storage.googleapis.com/deepmind-media/UCL%20x%20DeepMind%202021/Lecture%206%20-%20Model-free%20control.pdf)"
      ],
      "metadata": {
        "id": "8Q-VvR8HjGxd"
      }
    },
    {
      "cell_type": "code",
      "source": [
        "import numpy as np"
      ],
      "metadata": {
        "id": "OjWQGjMDvnA8"
      },
      "execution_count": null,
      "outputs": []
    },
    {
      "cell_type": "markdown",
      "source": [
        "The update function for the Q-table is:"
      ],
      "metadata": {
        "id": "0L4pQ7mJkbOi"
      }
    },
    {
      "cell_type": "code",
      "execution_count": null,
      "metadata": {
        "id": "M7IWduF3u9yo"
      },
      "outputs": [],
      "source": [
        "# Hyperparameters\n",
        "alpha = 0.01\n",
        "gamma = 0.99\n",
        "\n",
        "def update(q, R, a_t, alpha=alpha, gamma=gamma):\n",
        "    a_optim = np.argmax(q)\n",
        "    q[a_t] = q[a_t] + alpha * (R + gamma * q[a_optim] - q[a_t])\n",
        "    return q"
      ]
    },
    {
      "cell_type": "markdown",
      "source": [
        "Checking that it works:"
      ],
      "metadata": {
        "id": "kSLaUxpsk2cq"
      }
    },
    {
      "cell_type": "code",
      "source": [
        "q = np.zeros((3,3))\n",
        "q = update(q, 3, 0, 1, 1)\n",
        "print(q)"
      ],
      "metadata": {
        "id": "LKIRF6KkwDes",
        "colab": {
          "base_uri": "https://localhost:8080/"
        },
        "outputId": "ac3741b4-e2b2-4852-e6bd-9edb1473a653"
      },
      "execution_count": null,
      "outputs": [
        {
          "output_type": "stream",
          "name": "stdout",
          "text": [
            "[[3. 3. 3.]\n",
            " [0. 0. 0.]\n",
            " [0. 0. 0.]]\n"
          ]
        }
      ]
    },
    {
      "cell_type": "markdown",
      "source": [
        "The reward function is:\n",
        "- $r=-1$, if the chosen number is incorrect.\n",
        "- $r=\\dfrac{1}{\\text{action space}}$, if the chosen number is correct.\n",
        "- $r=0$, if we stop."
      ],
      "metadata": {
        "id": "5et71HBtlC5i"
      }
    },
    {
      "cell_type": "code",
      "source": [
        "def random_reward(a, action_space):\n",
        "    a_reward = np.random.randint(action_space)\n",
        "    if a == a_reward:\n",
        "      return 50\n",
        "    elif a_reward == 0:\n",
        "      return 0\n",
        "    else:\n",
        "      return -1"
      ],
      "metadata": {
        "id": "x6dU2kgEwdfV"
      },
      "execution_count": null,
      "outputs": []
    },
    {
      "cell_type": "code",
      "source": [
        "action_space = 171\n",
        "q = np.ones(action_space) *50\n",
        "q_max = []\n",
        "\n",
        "def update(q, R, a_t, alpha=alpha, gamma=gamma):\n",
        "    a_optim = np.argmax(q)\n",
        "    q[a_t] = q[a_t] + alpha * (R + gamma * q[a_optim] - q[a_t])\n",
        "    return q\n",
        "\n",
        "for _ in range(500000):\n",
        "    a_t = np.random.randint(action_space)\n",
        "    R = random_reward(a_t, action_space)\n",
        "    q = update(q, R, a_t)\n",
        "    q_max.append(np.max(q))"
      ],
      "metadata": {
        "id": "GIVQp3fqw55D"
      },
      "execution_count": null,
      "outputs": []
    },
    {
      "cell_type": "markdown",
      "source": [
        "# Double Q-Learning"
      ],
      "metadata": {
        "id": "RpR8ss7TmaGD"
      }
    },
    {
      "cell_type": "code",
      "source": [
        "q = np.ones(action_space)*50\n",
        "q2 = np.ones(action_space)*50\n",
        "q_max_double = []\n",
        "\n",
        "def update(q, q2, R, a_t, alpha=alpha, gamma=gamma):\n",
        "    u = np.random.uniform()\n",
        "    if u > 0.5:\n",
        "      a_optim = np.argmax(q)\n",
        "      q[a_t] = q[a_t] + alpha * (R + gamma * q2[a_optim] - q[a_t])\n",
        "    else:\n",
        "      a_optim = np.argmax(q2)\n",
        "      q2[a_t] = q2[a_t] + alpha * (R + gamma * q[a_optim] - q2[a_t])\n",
        "    return q, q2\n",
        "\n",
        "\n",
        "for _ in range(500000):\n",
        "    a_t = np.random.randint(action_space)\n",
        "    R = random_reward(a_t, action_space)\n",
        "    q,q2 = update(q,q2, R, a_t)\n",
        "    q_max_double.append(np.max(q))"
      ],
      "metadata": {
        "id": "9sXpoNhniXpm"
      },
      "execution_count": null,
      "outputs": []
    },
    {
      "cell_type": "code",
      "source": [
        "plt.plot(q_max_double,label='double')\n",
        "plt.plot(q_max,label='single')\n",
        "plt.legend()\n",
        "plt.show()"
      ],
      "metadata": {
        "id": "IGNQNcF0yfTh",
        "colab": {
          "base_uri": "https://localhost:8080/",
          "height": 265
        },
        "outputId": "dad16512-54a9-47f2-ff32-4b6bf5a5c664"
      },
      "execution_count": null,
      "outputs": [
        {
          "output_type": "display_data",
          "data": {
            "image/png": "[encoded data removed]",
            "text/plain": [
              "<Figure size 432x288 with 1 Axes>"
            ]
          },
          "metadata": {
            "needs_background": "light"
          }
        }
      ]
    }
  ]
}